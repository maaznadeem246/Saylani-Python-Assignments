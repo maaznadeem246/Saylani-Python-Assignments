{
 "cells": [
  {
   "cell_type": "markdown",
   "metadata": {},
   "source": [
    "<h2>Question 1</h2>"
   ]
  },
  {
   "cell_type": "markdown",
   "metadata": {},
   "source": [
    "Object Oriented Programming Language (OOPL) means the language is based on the object oriented programming (OOP) concept. OOPL is the high-level language of OOP Model . The object Oriented Programming is the concept of Object in which we make objects of a class and class contains the specific data (attributes) and behavoiur (methods).  "
   ]
  },
  {
   "cell_type": "markdown",
   "metadata": {},
   "source": [
    "<h2>Question 2</h2>"
   ]
  },
  {
   "cell_type": "markdown",
   "metadata": {},
   "source": [
    "The benifits of Object Oriented Programming are :\n",
    "<ul>\n",
    "    <li>The code written using OOP can be reusable </li>\n",
    "    <li>It breaks down a problem and saves much time</li>\n",
    "    <li>whenever we make the Object it inherits all the features and behavoirs automatically</li>\n",
    "    <li>The code written using OOP can be modify easily</li>\n",
    "</ul>"
   ]
  },
  {
   "cell_type": "markdown",
   "metadata": {},
   "source": [
    "<h2>Question 3</h2>"
   ]
  },
  {
   "cell_type": "markdown",
   "metadata": {},
   "source": [
    "The difference between the function and method is Whenever we talk about funtion it means the code or a specific task we want to perform we code in that function and then reuse it again again so method also has the same or all functionaliy which the function has just the difference is if we code function in the Class so we call that function a method or The function is the part of class is method but outside the class when we code function so we call function."
   ]
  },
  {
   "cell_type": "markdown",
   "metadata": {},
   "source": [
    "<h2>Question 4</h2>"
   ]
  },
  {
   "cell_type": "markdown",
   "metadata": {},
   "source": [
    "<h6>Class</h6>\n",
    "<p>The Class is the Blueprint for creating Objects in Object Oriented Programming (OOP). Class conatins constructor, attributes and methonds.</p>\n",
    "<h6>Object</h6>\n",
    "<p>Objects are the instances of the Class which are being made by Instantiation. We can make Multiple Objects of one class and each object gets all attributes and methods from where the object was intantiated.</p>\n",
    "<h6>Attribute</h6>\n",
    "<p>Attribute is the part of class. Attribute stores data. Variables are accessible through instances or objects are called attributes.</p>\n",
    "<h6>Behavior</h6>\n",
    "<p>Behavior is the part of class. Behaviors are the Methods. Behaviors or Methods  has the Functionality which is being preformed when we call through the object.</p>"
   ]
  },
  {
   "cell_type": "code",
   "execution_count": 4,
   "metadata": {},
   "outputs": [],
   "source": [
    "class Car():\n",
    "    \n",
    "    \"\"\"Car Class it has 5 attributs and 3 methods \"\"\"\n",
    "    \n",
    "    def __init__(self,name,color,model,engine_number,cc):\n",
    "        \n",
    "        #These are the attributes realted car details\n",
    "        self.name = name\n",
    "        self.model = model\n",
    "        self.color = color\n",
    "        self.engine_number = engine_number\n",
    "        self.cc = cc\n",
    "    \n",
    "    def carDetails(self):\n",
    "        #This method will print the car details\n",
    "        print(\"The Car name is\",self.name)\n",
    "        print(\"The Car color is\",self.color)\n",
    "        print(\"The Car model is\",self.model)\n",
    "        print(\"The Car enigne number is\",self.engine_number)\n",
    "        print(\"The Car company is\",self.cc)\n",
    "    \n",
    "    def drive(self):\n",
    "        # this mehtod will print car is being drived\n",
    "        print(self.name,\"is being drived.\")\n",
    "    \n",
    "    def stop(self):\n",
    "        # this mehtod will print car is being stoped\n",
    "        print(self.name,\"is being stopped.\")"
   ]
  },
  {
   "cell_type": "code",
   "execution_count": 3,
   "metadata": {},
   "outputs": [
    {
     "name": "stdout",
     "output_type": "stream",
     "text": [
      "The Car name is Civic\n",
      "The Car color is Black\n",
      "The Car model is model1\n",
      "The Car enigne number is 18756\n",
      "The Car company is 1400\n",
      "\n",
      "\n",
      "Civic is being drived.\n",
      "Civic is being stopped.\n",
      "\n",
      "\n",
      "The Car name is Farari\n",
      "The Car color is White\n",
      "The Car model is model2\n",
      "The Car enigne number is 123236\n",
      "The Car company is 1800\n",
      "\n",
      "\n",
      "Farari is being drived.\n",
      "Farari is being stopped.\n",
      "\n",
      "\n",
      "The Car name is Buggati\n",
      "The Car color is Brown\n",
      "The Car model is model3\n",
      "The Car enigne number is 23356\n",
      "The Car company is 1500\n",
      "\n",
      "\n",
      "Buggati is being drived.\n",
      "Buggati is being stopped.\n",
      "\n",
      "\n",
      "The Car name is Civic\n",
      "The Car color is Green\n",
      "The Car model is model4\n",
      "The Car enigne number is 925346\n",
      "The Car company is 1900\n",
      "\n",
      "\n",
      "Civic is being drived.\n",
      "Civic is being stopped.\n",
      "\n",
      "\n",
      "The Car name is Civic\n",
      "The Car color is Red\n",
      "The Car model is model5\n",
      "The Car enigne number is 23256\n",
      "The Car company is 1700\n",
      "\n",
      "\n",
      "Civic is being drived.\n",
      "Civic is being stopped.\n"
     ]
    }
   ],
   "source": [
    "car1 = Car(\"Civic\",\"Black\",\"model1\",18756,1400)\n",
    "car1.carDetails()\n",
    "print(\"\\n\")\n",
    "car1.drive()\n",
    "car1.stop()\n",
    "\n",
    "print(\"\\n\")\n",
    "\n",
    "car2 = Car(\"Farari\",\"White\",\"model2\",123236,1800)\n",
    "car2.carDetails()\n",
    "print(\"\\n\")\n",
    "car2.drive()\n",
    "car2.stop()\n",
    "\n",
    "print(\"\\n\")\n",
    "\n",
    "car3 = Car(\"Buggati\",\"Brown\",\"model3\",23356,1500)\n",
    "car3.carDetails()\n",
    "print(\"\\n\")\n",
    "car3.drive()\n",
    "car3.stop()\n",
    "\n",
    "print(\"\\n\")\n",
    "\n",
    "car4 = Car(\"Civic\",\"Green\",\"model4\",925346,1900)\n",
    "car4.carDetails()\n",
    "print(\"\\n\")\n",
    "car4.drive()\n",
    "car4.stop()\n",
    "\n",
    "print(\"\\n\")\n",
    "\n",
    "car5 = Car(\"Civic\",\"Red\",\"model5\",23256,1700)\n",
    "car5.carDetails()\n",
    "print(\"\\n\")\n",
    "car5.drive()\n",
    "car5.stop()\n"
   ]
  },
  {
   "cell_type": "code",
   "execution_count": null,
   "metadata": {},
   "outputs": [],
   "source": []
  },
  {
   "cell_type": "code",
   "execution_count": null,
   "metadata": {},
   "outputs": [],
   "source": []
  }
 ],
 "metadata": {
  "kernelspec": {
   "display_name": "Python 3",
   "language": "python",
   "name": "python3"
  },
  "language_info": {
   "codemirror_mode": {
    "name": "ipython",
    "version": 3
   },
   "file_extension": ".py",
   "mimetype": "text/x-python",
   "name": "python",
   "nbconvert_exporter": "python",
   "pygments_lexer": "ipython3",
   "version": "3.6.5"
  }
 },
 "nbformat": 4,
 "nbformat_minor": 2
}
