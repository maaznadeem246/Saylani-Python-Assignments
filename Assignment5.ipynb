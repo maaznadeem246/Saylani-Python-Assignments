{
  "nbformat": 4,
  "nbformat_minor": 0,
  "metadata": {
    "colab": {
      "name": "Assignment 5.ipynb",
      "provenance": [],
      "collapsed_sections": []
    },
    "kernelspec": {
      "name": "python3",
      "display_name": "Python 3"
    }
  },
  "cells": [
    {
      "cell_type": "markdown",
      "metadata": {
        "id": "DJ1G0vLfPgCA",
        "colab_type": "text"
      },
      "source": [
        "<h3>Question 1</h3>"
      ]
    },
    {
      "cell_type": "code",
      "metadata": {
        "id": "d6Qng2Z8PXvI",
        "colab_type": "code",
        "colab": {
          "base_uri": "https://localhost:8080/",
          "height": 51
        },
        "outputId": "093cd12e-1f8b-49e6-c528-16fbd95d5e4f"
      },
      "source": [
        "def factorail(n):\n",
        "  fact = 1\n",
        "  for i in range(1,n+1): \n",
        "    fact = fact * i\n",
        "  return fact\n",
        "\n",
        "\n",
        "\n",
        "while(True):\n",
        "  num = int(input(\"Enter Number for Factorail \"))\n",
        "  if num>=0:\n",
        "    facto = factorail(num)\n",
        "    print(\"The Factorail of the \",num,\" is \",facto)\n",
        "    break\n",
        "  else:\n",
        "    print(\"Please give the none negative value\")"
      ],
      "execution_count": 57,
      "outputs": [
        {
          "output_type": "stream",
          "text": [
            "Enter Number for Factorail 6\n",
            "The Factorail of the  6  is  720\n"
          ],
          "name": "stdout"
        }
      ]
    },
    {
      "cell_type": "markdown",
      "metadata": {
        "id": "_6f_FBpRWWp9",
        "colab_type": "text"
      },
      "source": [
        "<h2>Qusetion 2</h2>"
      ]
    },
    {
      "cell_type": "code",
      "metadata": {
        "id": "WMHeFi4ZQOWc",
        "colab_type": "code",
        "colab": {
          "base_uri": "https://localhost:8080/",
          "height": 102
        },
        "outputId": "09a6af24-677a-4898-a58e-7227ed1cce59"
      },
      "source": [
        "\n",
        "def calculateUL(s):\n",
        "  \n",
        "  d = {\n",
        "   'upper' : 0 ,\n",
        "  'lower' : 0   \n",
        "  }\n",
        "  for i in list(s):\n",
        "    if i.isalpha():\n",
        "      if i.isupper():\n",
        "        d['upper'] += 1\n",
        "      else:\n",
        "        d['lower'] += 1\n",
        "  \n",
        "  return d\n",
        "\n",
        "\n",
        "\n",
        "inputforstringc = input(\"Enter your String: \")\n",
        "\n",
        "valuesUL = calculateUL(inputforstringc)\n",
        "\n",
        "print(\"\\n\")\n",
        "print(\"Upper Letters are : \",valuesUL['upper'])\n",
        "print(\"Lower Letters are : \",valuesUL['lower'])\n",
        "\n",
        "\n"
      ],
      "execution_count": 64,
      "outputs": [
        {
          "output_type": "stream",
          "text": [
            "Enter your String: My name is MAAZ\n",
            "\n",
            "\n",
            "Upper Letters are :  5\n",
            "Lower Letters are :  7\n"
          ],
          "name": "stdout"
        }
      ]
    },
    {
      "cell_type": "markdown",
      "metadata": {
        "id": "R0nAKO-mWmPV",
        "colab_type": "text"
      },
      "source": [
        "<h2>Question 3</h2>"
      ]
    },
    {
      "cell_type": "code",
      "metadata": {
        "id": "Gt2qoX6QSsrA",
        "colab_type": "code",
        "colab": {
          "base_uri": "https://localhost:8080/",
          "height": 85
        },
        "outputId": "3f1cb98d-7878-46ee-e180-a058c819e71c"
      },
      "source": [
        "def evenNumbers(listofnum):\n",
        "  for i in listofnum:\n",
        "    if i%2 == 0:\n",
        "      print(i,\" is Even Number \")\n",
        "\n",
        "evenNumbers([1,3,4,84,23,6,8,65,87,45,23])\n"
      ],
      "execution_count": 70,
      "outputs": [
        {
          "output_type": "stream",
          "text": [
            "4  is Even Number \n",
            "84  is Even Number \n",
            "6  is Even Number \n",
            "8  is Even Number \n"
          ],
          "name": "stdout"
        }
      ]
    },
    {
      "cell_type": "markdown",
      "metadata": {
        "id": "SVbnDkKKZ1yi",
        "colab_type": "text"
      },
      "source": [
        "<h2>Question 4</h2>"
      ]
    },
    {
      "cell_type": "code",
      "metadata": {
        "id": "dmiZfkJjW_pl",
        "colab_type": "code",
        "colab": {
          "base_uri": "https://localhost:8080/",
          "height": 34
        },
        "outputId": "5df51a22-73f6-4425-b69e-e4f752923946"
      },
      "source": [
        "def isPalindrome(s): \n",
        "    # Calling reverse function \n",
        "    s = s.lower()\n",
        "    rev = s[::-1] \n",
        "  \n",
        "    # Checking if both string are equal or not \n",
        "    if s == rev: \n",
        "      return True\n",
        "\n",
        "    return False\n",
        "\n",
        "svalue = \"Refer\"\n",
        "\n",
        "v = isPalindrome(svalue)\n",
        "\n",
        "if v:\n",
        "  print(svalue,\"is Palindrome\")\n",
        "else:\n",
        "  print(svalue,\"is not Palindrome\")"
      ],
      "execution_count": 76,
      "outputs": [
        {
          "output_type": "stream",
          "text": [
            "Refer is Palindrome\n"
          ],
          "name": "stdout"
        }
      ]
    },
    {
      "cell_type": "markdown",
      "metadata": {
        "id": "M_SiyPuSZzYa",
        "colab_type": "text"
      },
      "source": [
        "<h2>Question 5</h2>"
      ]
    },
    {
      "cell_type": "code",
      "metadata": {
        "id": "nwws2nDvZmNq",
        "colab_type": "code",
        "colab": {
          "base_uri": "https://localhost:8080/",
          "height": 51
        },
        "outputId": "ca922ea6-20bd-4bd9-9ad2-8e97d9841349"
      },
      "source": [
        "def primeCheck(num):\n",
        "  if num > 1:\n",
        "    for i in range(2,num):\n",
        "      if (num % i) == 0:\n",
        "        return False\n",
        "        break\n",
        "    else:\n",
        "      return True \n",
        "  else:\n",
        "    return False\n",
        "\n",
        "\n",
        "sampleNum = int(input(\"Enter Sample Numebr only integers :\"))\n",
        "\n",
        "v =  primeCheck(sampleNum)\n",
        "\n",
        "if v:\n",
        "   print(sampleNum,\"is a prime number\")\n",
        "else:\n",
        "  print(sampleNum,\"is not a prime number\")\n",
        "\n"
      ],
      "execution_count": 84,
      "outputs": [
        {
          "output_type": "stream",
          "text": [
            "Enter Sample Numebr only integers :11\n",
            "11 is a prime number\n"
          ],
          "name": "stdout"
        }
      ]
    },
    {
      "cell_type": "markdown",
      "metadata": {
        "id": "d1SHiA_glIvt",
        "colab_type": "text"
      },
      "source": [
        "<h2>Question 6</h2>"
      ]
    },
    {
      "cell_type": "code",
      "metadata": {
        "id": "q869jOkFcN8D",
        "colab_type": "code",
        "colab": {
          "base_uri": "https://localhost:8080/",
          "height": 119
        },
        "outputId": "e48a11fb-db02-49b5-ab84-80ce01e4e999"
      },
      "source": [
        "def listofItems(*v):\n",
        "  for i in v:\n",
        "    print(i)\n",
        "\n",
        "print(\"Items :\\n\")\n",
        "listofItems(\"Two Shirts\",\"T-Shirt\",\"Shoes\",\"Sun Glasses\")"
      ],
      "execution_count": 85,
      "outputs": [
        {
          "output_type": "stream",
          "text": [
            "Items :\n",
            "\n",
            "Two Shirts\n",
            "T-Shirt\n",
            "Shoes\n",
            "Sun Glasses\n"
          ],
          "name": "stdout"
        }
      ]
    },
    {
      "cell_type": "code",
      "metadata": {
        "id": "NjgLUzAVkwQx",
        "colab_type": "code",
        "colab": {}
      },
      "source": [
        ""
      ],
      "execution_count": 0,
      "outputs": []
    }
  ]
}