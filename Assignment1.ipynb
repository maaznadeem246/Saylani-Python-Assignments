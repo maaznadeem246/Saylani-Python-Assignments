{
 "cells": [
  {
   "cell_type": "code",
   "execution_count": 1,
   "metadata": {
    "colab": {
     "base_uri": "https://localhost:8080/",
     "height": 102
    },
    "colab_type": "code",
    "id": "OF04_U_Nkb77",
    "outputId": "f99409f8-f200-43c3-abeb-61adc7b4dc44"
   },
   "outputs": [
    {
     "name": "stdout",
     "output_type": "stream",
     "text": [
      "Twinkle, Twinkle, little star,\n",
      "      How I wounder what you are!\n",
      "           Up above the world so heigh!\n",
      "Twinkle, twinkle, little star,\n",
      "      How I wonder what you are   \n"
     ]
    }
   ],
   "source": [
    "print(\"Twinkle, Twinkle, little star,\\n\" \n",
    "      \"      How I wounder what you are!\\n\"\n",
    "      \"           Up above the world so heigh!\\n\"\n",
    "      \"Twinkle, twinkle, little star,\\n\"\n",
    "      \"      How I wonder what you are   \")"
   ]
  },
  {
   "cell_type": "code",
   "execution_count": 2,
   "metadata": {
    "colab": {
     "base_uri": "https://localhost:8080/",
     "height": 34
    },
    "colab_type": "code",
    "id": "1Uy_YTFdl_Dv",
    "outputId": "76c15291-305f-43cb-f5e8-e106ae8b6f35"
   },
   "outputs": [
    {
     "name": "stdout",
     "output_type": "stream",
     "text": [
      "Python version :  3.6.5\n"
     ]
    }
   ],
   "source": [
    "import platform\n",
    "\n",
    "print(\"Python version : \",platform.python_version())"
   ]
  },
  {
   "cell_type": "code",
   "execution_count": 3,
   "metadata": {
    "colab": {
     "base_uri": "https://localhost:8080/",
     "height": 34
    },
    "colab_type": "code",
    "id": "yoyxYXrepbo5",
    "outputId": "cce15711-6912-4665-9d02-44e62be7cebf"
   },
   "outputs": [
    {
     "name": "stdout",
     "output_type": "stream",
     "text": [
      "Current time is :  Mon Nov  4 00:56:30 2019\n"
     ]
    }
   ],
   "source": [
    "import time\n",
    "localtime = time.asctime( time.localtime(time.time()) )\n",
    "print(\"Current time is : \",localtime)"
   ]
  },
  {
   "cell_type": "code",
   "execution_count": 4,
   "metadata": {
    "colab": {
     "base_uri": "https://localhost:8080/",
     "height": 51
    },
    "colab_type": "code",
    "id": "pmER7yHIppOh",
    "outputId": "f1bb6441-60a3-4677-9fe5-da8d5a5878a0"
   },
   "outputs": [
    {
     "name": "stdout",
     "output_type": "stream",
     "text": [
      "Enter radius : 4\n",
      "Area of circle is :  50.26548245743669\n"
     ]
    }
   ],
   "source": [
    "import math\n",
    "a=input(\"Enter radius : \")\n",
    "area=math.pi*(math.pow(int(a),2))\n",
    "print(\"Area of circle is : \",area)"
   ]
  },
  {
   "cell_type": "code",
   "execution_count": 6,
   "metadata": {
    "colab": {
     "base_uri": "https://localhost:8080/",
     "height": 68
    },
    "colab_type": "code",
    "id": "M2HxBOUTtCm0",
    "outputId": "8228d0ac-da2d-4808-fa45-68df2e99bbdd"
   },
   "outputs": [
    {
     "name": "stdout",
     "output_type": "stream",
     "text": [
      "First name : Maaz\n",
      "Last name : uddin\n",
      "Reversed order of your name : niddu zaaM\n"
     ]
    }
   ],
   "source": [
    "firstname=input(\"First name : \")\n",
    "lastname=input(\"Last name : \")\n",
    "reversedNumber = lastname[::-1] + \" \" + firstname[::-1]   \n",
    "print(\"Reversed order of your name :\",reversedNumber)"
   ]
  },
  {
   "cell_type": "code",
   "execution_count": 8,
   "metadata": {
    "colab": {
     "base_uri": "https://localhost:8080/",
     "height": 68
    },
    "colab_type": "code",
    "id": "ArtXF2E4uAEf",
    "outputId": "7bf172a7-f98e-4566-d329-997d0b3741ef"
   },
   "outputs": [
    {
     "name": "stdout",
     "output_type": "stream",
     "text": [
      "Enter First Number : 3\n",
      "Enter Second Number : 4\n",
      "7\n"
     ]
    }
   ],
   "source": [
    "firstnum=input(\"Enter First Number : \")\n",
    "secondnum=input(\"Enter Second Number : \")\n",
    "addition= int(firstnum)+int(secondnum)\n",
    "print(addition)"
   ]
  },
  {
   "cell_type": "code",
   "execution_count": 0,
   "metadata": {
    "colab": {},
    "colab_type": "code",
    "id": "hvTqk_oF0ZJR"
   },
   "outputs": [],
   "source": []
  }
 ],
 "metadata": {
  "colab": {
   "collapsed_sections": [],
   "name": "Untitled0.ipynb",
   "provenance": []
  },
  "kernelspec": {
   "display_name": "Python 3",
   "language": "python",
   "name": "python3"
  },
  "language_info": {
   "codemirror_mode": {
    "name": "ipython",
    "version": 3
   },
   "file_extension": ".py",
   "mimetype": "text/x-python",
   "name": "python",
   "nbconvert_exporter": "python",
   "pygments_lexer": "ipython3",
   "version": "3.6.5"
  }
 },
 "nbformat": 4,
 "nbformat_minor": 1
}
